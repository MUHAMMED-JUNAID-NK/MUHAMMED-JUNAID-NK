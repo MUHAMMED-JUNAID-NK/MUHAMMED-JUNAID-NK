{
 "cells": [
  {
   "cell_type": "code",
   "execution_count": 1,
   "metadata": {},
   "outputs": [
    {
     "data": {
      "text/plain": [
       "'C:\\\\spark'"
      ]
     },
     "execution_count": 1,
     "metadata": {},
     "output_type": "execute_result"
    }
   ],
   "source": [
    "import findspark\n",
    "findspark.init()\n",
    "findspark.find()\n",
    "import pyspark\n",
    "findspark.find()"
   ]
  },
  {
   "cell_type": "code",
   "execution_count": 2,
   "metadata": {},
   "outputs": [],
   "source": [
    "from pyspark import SparkContext, SparkConf\n",
    "from pyspark.sql import SparkSession\n",
    "from pyspark.sql import functions as sf\n",
    "import requests\n",
    "from urllib.request import urlopen\n"
   ]
  },
  {
   "cell_type": "code",
   "execution_count": 3,
   "metadata": {},
   "outputs": [],
   "source": [
    "sc = SparkContext(master=\"local[*]\",appName=\"data_json\")\n",
    "spark = SparkSession.builder.appName(\"data_json\").getOrCreate()"
   ]
  },
  {
   "cell_type": "code",
   "execution_count": 4,
   "metadata": {},
   "outputs": [],
   "source": [
    "df = spark.read.json(r\"C:\\Users\\MUHAMMED JUNAID N K\\Downloads\\newyork_json.json\")"
   ]
  },
  {
   "cell_type": "code",
   "execution_count": 5,
   "metadata": {},
   "outputs": [],
   "source": [
    "multiline_df = spark.read.option(\"multiline\",\"true\").json(r\"C:\\Users\\MUHAMMED JUNAID N K\\Downloads\\newyork_json.json\")"
   ]
  },
  {
   "cell_type": "code",
   "execution_count": 6,
   "metadata": {
    "scrolled": false
   },
   "outputs": [
    {
     "name": "stdout",
     "output_type": "stream",
     "text": [
      "+--------------------+--------------------+\n",
      "|                data|                meta|\n",
      "+--------------------+--------------------+\n",
      "|[[row-ikqi~z2hn.9...|{{[{1502396656, t...|\n",
      "+--------------------+--------------------+\n",
      "\n"
     ]
    }
   ],
   "source": [
    "multiline_df.show()\n"
   ]
  },
  {
   "cell_type": "code",
   "execution_count": 7,
   "metadata": {},
   "outputs": [
    {
     "name": "stdout",
     "output_type": "stream",
     "text": [
      "root\n",
      " |-- data: array (nullable = true)\n",
      " |    |-- element: array (containsNull = true)\n",
      " |    |    |-- element: string (containsNull = true)\n",
      " |-- meta: struct (nullable = true)\n",
      " |    |-- view: struct (nullable = true)\n",
      " |    |    |-- approvals: array (nullable = true)\n",
      " |    |    |    |-- element: struct (containsNull = true)\n",
      " |    |    |    |    |-- reviewedAt: long (nullable = true)\n",
      " |    |    |    |    |-- reviewedAutomatically: boolean (nullable = true)\n",
      " |    |    |    |    |-- state: string (nullable = true)\n",
      " |    |    |    |    |-- submissionDetails: struct (nullable = true)\n",
      " |    |    |    |    |    |-- permissionType: string (nullable = true)\n",
      " |    |    |    |    |-- submissionId: long (nullable = true)\n",
      " |    |    |    |    |-- submissionObject: string (nullable = true)\n",
      " |    |    |    |    |-- submissionOutcome: string (nullable = true)\n",
      " |    |    |    |    |-- submissionOutcomeApplication: struct (nullable = true)\n",
      " |    |    |    |    |    |-- failureCount: long (nullable = true)\n",
      " |    |    |    |    |    |-- status: string (nullable = true)\n",
      " |    |    |    |    |-- submittedAt: long (nullable = true)\n",
      " |    |    |    |    |-- submitter: struct (nullable = true)\n",
      " |    |    |    |    |    |-- displayName: string (nullable = true)\n",
      " |    |    |    |    |    |-- id: string (nullable = true)\n",
      " |    |    |    |    |-- workflowId: long (nullable = true)\n",
      " |    |    |-- assetType: string (nullable = true)\n",
      " |    |    |-- attribution: string (nullable = true)\n",
      " |    |    |-- attributionLink: string (nullable = true)\n",
      " |    |    |-- averageRating: long (nullable = true)\n",
      " |    |    |-- category: string (nullable = true)\n",
      " |    |    |-- columns: array (nullable = true)\n",
      " |    |    |    |-- element: struct (containsNull = true)\n",
      " |    |    |    |    |-- cachedContents: struct (nullable = true)\n",
      " |    |    |    |    |    |-- average: string (nullable = true)\n",
      " |    |    |    |    |    |-- largest: string (nullable = true)\n",
      " |    |    |    |    |    |-- non_null: long (nullable = true)\n",
      " |    |    |    |    |    |-- null: long (nullable = true)\n",
      " |    |    |    |    |    |-- smallest: string (nullable = true)\n",
      " |    |    |    |    |    |-- sum: string (nullable = true)\n",
      " |    |    |    |    |    |-- top: array (nullable = true)\n",
      " |    |    |    |    |    |    |-- element: struct (containsNull = true)\n",
      " |    |    |    |    |    |    |    |-- count: long (nullable = true)\n",
      " |    |    |    |    |    |    |    |-- item: string (nullable = true)\n",
      " |    |    |    |    |-- dataTypeName: string (nullable = true)\n",
      " |    |    |    |    |-- fieldName: string (nullable = true)\n",
      " |    |    |    |    |-- flags: array (nullable = true)\n",
      " |    |    |    |    |    |-- element: string (containsNull = true)\n",
      " |    |    |    |    |-- format: struct (nullable = true)\n",
      " |    |    |    |    |    |-- decimalSeparator: string (nullable = true)\n",
      " |    |    |    |    |    |-- groupSeparator: string (nullable = true)\n",
      " |    |    |    |    |-- id: long (nullable = true)\n",
      " |    |    |    |    |-- name: string (nullable = true)\n",
      " |    |    |    |    |-- position: long (nullable = true)\n",
      " |    |    |    |    |-- renderTypeName: string (nullable = true)\n",
      " |    |    |    |    |-- tableColumnId: long (nullable = true)\n",
      " |    |    |    |    |-- width: long (nullable = true)\n",
      " |    |    |-- createdAt: long (nullable = true)\n",
      " |    |    |-- description: string (nullable = true)\n",
      " |    |    |-- displayType: string (nullable = true)\n",
      " |    |    |-- downloadCount: long (nullable = true)\n",
      " |    |    |-- flags: array (nullable = true)\n",
      " |    |    |    |-- element: string (containsNull = true)\n",
      " |    |    |-- grants: array (nullable = true)\n",
      " |    |    |    |-- element: struct (containsNull = true)\n",
      " |    |    |    |    |-- flags: array (nullable = true)\n",
      " |    |    |    |    |    |-- element: string (containsNull = true)\n",
      " |    |    |    |    |-- inherited: boolean (nullable = true)\n",
      " |    |    |    |    |-- type: string (nullable = true)\n",
      " |    |    |-- hideFromCatalog: boolean (nullable = true)\n",
      " |    |    |-- hideFromDataJson: boolean (nullable = true)\n",
      " |    |    |-- id: string (nullable = true)\n",
      " |    |    |-- indexUpdatedAt: long (nullable = true)\n",
      " |    |    |-- locale: string (nullable = true)\n",
      " |    |    |-- metadata: struct (nullable = true)\n",
      " |    |    |    |-- attachments: array (nullable = true)\n",
      " |    |    |    |    |-- element: struct (containsNull = true)\n",
      " |    |    |    |    |    |-- assetId: string (nullable = true)\n",
      " |    |    |    |    |    |-- filename: string (nullable = true)\n",
      " |    |    |    |    |    |-- name: string (nullable = true)\n",
      " |    |    |    |-- availableDisplayTypes: array (nullable = true)\n",
      " |    |    |    |    |-- element: string (containsNull = true)\n",
      " |    |    |    |-- custom_fields: struct (nullable = true)\n",
      " |    |    |    |    |-- Dataset Information: struct (nullable = true)\n",
      " |    |    |    |    |    |-- Agency: string (nullable = true)\n",
      " |    |    |    |    |-- Legislative Compliance: struct (nullable = true)\n",
      " |    |    |    |    |    |-- Geo-coding Attached?: string (nullable = true)\n",
      " |    |    |    |    |-- Update: struct (nullable = true)\n",
      " |    |    |    |    |    |-- Automation: string (nullable = true)\n",
      " |    |    |    |    |    |-- Date Made Public: string (nullable = true)\n",
      " |    |    |    |    |    |-- Update Frequency: string (nullable = true)\n",
      " |    |    |    |-- rdfClass: string (nullable = true)\n",
      " |    |    |    |-- rdfSubject: string (nullable = true)\n",
      " |    |    |    |-- renderTypeConfig: struct (nullable = true)\n",
      " |    |    |    |    |-- visible: struct (nullable = true)\n",
      " |    |    |    |    |    |-- table: boolean (nullable = true)\n",
      " |    |    |    |-- rowIdentifier: string (nullable = true)\n",
      " |    |    |    |-- rowLabel: string (nullable = true)\n",
      " |    |    |-- name: string (nullable = true)\n",
      " |    |    |-- newBackend: boolean (nullable = true)\n",
      " |    |    |-- numberOfComments: long (nullable = true)\n",
      " |    |    |-- oid: long (nullable = true)\n",
      " |    |    |-- owner: struct (nullable = true)\n",
      " |    |    |    |-- displayName: string (nullable = true)\n",
      " |    |    |    |-- flags: array (nullable = true)\n",
      " |    |    |    |    |-- element: string (containsNull = true)\n",
      " |    |    |    |-- id: string (nullable = true)\n",
      " |    |    |    |-- profileImageUrlLarge: string (nullable = true)\n",
      " |    |    |    |-- profileImageUrlMedium: string (nullable = true)\n",
      " |    |    |    |-- profileImageUrlSmall: string (nullable = true)\n",
      " |    |    |    |-- screenName: string (nullable = true)\n",
      " |    |    |    |-- type: string (nullable = true)\n",
      " |    |    |-- provenance: string (nullable = true)\n",
      " |    |    |-- publicationAppendEnabled: boolean (nullable = true)\n",
      " |    |    |-- publicationDate: long (nullable = true)\n",
      " |    |    |-- publicationGroup: long (nullable = true)\n",
      " |    |    |-- publicationStage: string (nullable = true)\n",
      " |    |    |-- rights: array (nullable = true)\n",
      " |    |    |    |-- element: string (containsNull = true)\n",
      " |    |    |-- rowClass: string (nullable = true)\n",
      " |    |    |-- rowsUpdatedAt: long (nullable = true)\n",
      " |    |    |-- rowsUpdatedBy: string (nullable = true)\n",
      " |    |    |-- tableAuthor: struct (nullable = true)\n",
      " |    |    |    |-- displayName: string (nullable = true)\n",
      " |    |    |    |-- flags: array (nullable = true)\n",
      " |    |    |    |    |-- element: string (containsNull = true)\n",
      " |    |    |    |-- id: string (nullable = true)\n",
      " |    |    |    |-- profileImageUrlLarge: string (nullable = true)\n",
      " |    |    |    |-- profileImageUrlMedium: string (nullable = true)\n",
      " |    |    |    |-- profileImageUrlSmall: string (nullable = true)\n",
      " |    |    |    |-- screenName: string (nullable = true)\n",
      " |    |    |    |-- type: string (nullable = true)\n",
      " |    |    |-- tableId: long (nullable = true)\n",
      " |    |    |-- tags: array (nullable = true)\n",
      " |    |    |    |-- element: string (containsNull = true)\n",
      " |    |    |-- totalTimesRated: long (nullable = true)\n",
      " |    |    |-- viewCount: long (nullable = true)\n",
      " |    |    |-- viewLastModified: long (nullable = true)\n",
      " |    |    |-- viewType: string (nullable = true)\n",
      "\n"
     ]
    }
   ],
   "source": [
    "multiline_df.printSchema()"
   ]
  },
  {
   "cell_type": "code",
   "execution_count": null,
   "metadata": {},
   "outputs": [],
   "source": []
  },
  {
   "cell_type": "code",
   "execution_count": 9,
   "metadata": {},
   "outputs": [
    {
     "name": "stdout",
     "output_type": "stream",
     "text": [
      "+--------------------+\n",
      "|                data|\n",
      "+--------------------+\n",
      "|[row-ikqi~z2hn.9i...|\n",
      "|[row-vtcu.vp72_i2...|\n",
      "|[row-xzbn.iezm-bn...|\n",
      "|[row-9gwu_4zpd_5b...|\n",
      "|[row-3wp3~vkc4.3i...|\n",
      "|[row-pgig-5hz7_qa...|\n",
      "|[row-7dr3.c2bj-8p...|\n",
      "|[row-3vzj_jpaa-uk...|\n",
      "|[row-vbz7_ky2u~un...|\n",
      "|[row-9v6j~6d52-vr...|\n",
      "|[row-echu-dwcd_7p...|\n",
      "|[row-jqh2_x4ez.kn...|\n",
      "|[row-ix7t.745j_f3...|\n",
      "|[row-8cjx.2tnw_xk...|\n",
      "|[row-tfga~d73c-ia...|\n",
      "|[row-5u5b~rw4z_dc...|\n",
      "|[row-z3v6.7bri-jt...|\n",
      "|[row-e6ka-tfb4_4h...|\n",
      "|[row-wj4w_fkn9-mu...|\n",
      "|[row-mhup_pj2u.k9...|\n",
      "|[row-wm6c~77ap-b3...|\n",
      "|[row-xvnv.5tki-g2...|\n",
      "|[row-fb8n_i26r.yw...|\n",
      "|[row-3hax~gg4c~5g...|\n",
      "|[row-ived.z6di~wk...|\n",
      "|[row-rusu~56rr.iy...|\n",
      "|[row-aaim_z9n8_nu...|\n",
      "|[row-y72n-6uj7.fz...|\n",
      "|[row-pkz9.d3cg.he...|\n",
      "|[row-9tyv.6ue6-83...|\n",
      "|[row-eba6~6ezq.zw...|\n",
      "|[row-5qff~aw4y~9p...|\n",
      "|[row-nyr7~nd2t-28...|\n",
      "|[row-m8zp-kpsa~fn...|\n",
      "|[row-u2sz~thmv_hd...|\n",
      "|[row-nite-dbkt-ev...|\n",
      "|[row-rfg7~2627.7i...|\n",
      "|[row-ymf4~3prw_ed...|\n",
      "|[row-46kt_mbep~i4...|\n",
      "|[row-etjb_3igx~mb...|\n",
      "|[row-2m54~c7ja.dd...|\n",
      "|[row-bf7f~cwrq_se...|\n",
      "|[row-64gf~mewf~2a...|\n",
      "|[row-bwhe.49wf.42...|\n",
      "|[row-gtjg.b7bt_w3...|\n",
      "|[row-j8ab-kcqt_8p...|\n",
      "|[row-7c37.xka8-gt...|\n",
      "|[row-veqa.fgcs.4j...|\n",
      "|[row-i5py_rmis.7x...|\n",
      "|[row-6m57_9cz9.si...|\n",
      "+--------------------+\n",
      "only showing top 50 rows\n",
      "\n"
     ]
    }
   ],
   "source": [
    "multiline_df.withColumn(\"data\", sf.explode(sf.col(\"data\"))).select(\"data\").show(50)"
   ]
  },
  {
   "cell_type": "code",
   "execution_count": 10,
   "metadata": {},
   "outputs": [],
   "source": [
    "http = urlopen('https://data.cityofnewyork.us/api/views/7yc5-fec2/rows.json?accessType=DOWNLOAD').read().decode('utf-8')\n",
    "read_str = sc.parallelize([http])\n",
    "dfread=spark.read.json(read_str)"
   ]
  },
  {
   "cell_type": "code",
   "execution_count": 11,
   "metadata": {},
   "outputs": [
    {
     "name": "stdout",
     "output_type": "stream",
     "text": [
      "+--------------------+\n",
      "|                view|\n",
      "+--------------------+\n",
      "|{[{1502396656, tr...|\n",
      "|{[{1502396656, tr...|\n",
      "|{[{1502396656, tr...|\n",
      "|{[{1502396656, tr...|\n",
      "|{[{1502396656, tr...|\n",
      "|{[{1502396656, tr...|\n",
      "|{[{1502396656, tr...|\n",
      "|{[{1502396656, tr...|\n",
      "|{[{1502396656, tr...|\n",
      "|{[{1502396656, tr...|\n",
      "|{[{1502396656, tr...|\n",
      "|{[{1502396656, tr...|\n",
      "|{[{1502396656, tr...|\n",
      "|{[{1502396656, tr...|\n",
      "|{[{1502396656, tr...|\n",
      "|{[{1502396656, tr...|\n",
      "|{[{1502396656, tr...|\n",
      "|{[{1502396656, tr...|\n",
      "|{[{1502396656, tr...|\n",
      "|{[{1502396656, tr...|\n",
      "+--------------------+\n",
      "only showing top 20 rows\n",
      "\n"
     ]
    }
   ],
   "source": [
    " dfread.withColumn(\"data\", sf.explode(sf.col(\"data\"))).select(\"meta.*\").show()"
   ]
  },
  {
   "cell_type": "code",
   "execution_count": null,
   "metadata": {},
   "outputs": [],
   "source": []
  },
  {
   "cell_type": "code",
   "execution_count": null,
   "metadata": {},
   "outputs": [],
   "source": []
  },
  {
   "cell_type": "code",
   "execution_count": null,
   "metadata": {},
   "outputs": [],
   "source": []
  },
  {
   "cell_type": "code",
   "execution_count": null,
   "metadata": {},
   "outputs": [],
   "source": []
  },
  {
   "cell_type": "code",
   "execution_count": null,
   "metadata": {},
   "outputs": [],
   "source": []
  },
  {
   "cell_type": "code",
   "execution_count": null,
   "metadata": {},
   "outputs": [],
   "source": []
  },
  {
   "cell_type": "code",
   "execution_count": null,
   "metadata": {},
   "outputs": [],
   "source": []
  },
  {
   "cell_type": "code",
   "execution_count": null,
   "metadata": {},
   "outputs": [],
   "source": []
  }
 ],
 "metadata": {
  "kernelspec": {
   "display_name": "Python 3",
   "language": "python",
   "name": "python3"
  },
  "language_info": {
   "codemirror_mode": {
    "name": "ipython",
    "version": 3
   },
   "file_extension": ".py",
   "mimetype": "text/x-python",
   "name": "python",
   "nbconvert_exporter": "python",
   "pygments_lexer": "ipython3",
   "version": "3.8.5"
  }
 },
 "nbformat": 4,
 "nbformat_minor": 4
}
